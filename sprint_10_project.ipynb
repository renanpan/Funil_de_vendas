{
 "cells": [
  {
   "cell_type": "markdown",
   "metadata": {},
   "source": [
    "# Projeto Sprint 10"
   ]
  },
  {
   "cell_type": "markdown",
   "metadata": {},
   "source": [
    "<b>Descrição dos dados</b>\n",
    "\n",
    "    Cada entrada de diário é uma ação do usuário ou um evento.\n",
    "        EventName — nome do evento\n",
    "        DeviceIDHash — dentificador de usuário exclusivo\n",
    "        EventTimestamp — hora do evento\n",
    "        ExpId — número do experimento: 246 e 247 são os grupos de controle, 248 é o grupo de teste"
   ]
  },
  {
   "cell_type": "markdown",
   "metadata": {},
   "source": [
    "<b> Passo 1. Abra o arquivo de dados e leia a informação geral"
   ]
  },
  {
   "cell_type": "code",
   "execution_count": 1,
   "metadata": {},
   "outputs": [],
   "source": [
    "#importando as bibliotecas necessárias\n",
    "import pandas as pd\n"
   ]
  },
  {
   "cell_type": "code",
   "execution_count": 2,
   "metadata": {},
   "outputs": [],
   "source": [
    "#importando o conjunto de dados para o arquivo logs\n",
    "logs = pd.read_csv('logs_exp_us.csv', sep='\\t') #necessário colocar o separador dos dados como '\\t'"
   ]
  },
  {
   "cell_type": "code",
   "execution_count": 3,
   "metadata": {},
   "outputs": [
    {
     "name": "stdout",
     "output_type": "stream",
     "text": [
      "                 EventName         DeviceIDHash  EventTimestamp  ExpId\n",
      "0         MainScreenAppear  4575588528974610257      1564029816    246\n",
      "1         MainScreenAppear  7416695313311560658      1564053102    246\n",
      "2  PaymentScreenSuccessful  3518123091307005509      1564054127    248\n",
      "3         CartScreenAppear  3518123091307005509      1564054127    248\n",
      "4  PaymentScreenSuccessful  6217807653094995999      1564055322    248\n"
     ]
    }
   ],
   "source": [
    "print(logs.head())"
   ]
  },
  {
   "cell_type": "markdown",
   "metadata": {},
   "source": [
    "<b>Passo 2. Prepare os dados para análise</b>\n",
    "\n",
    "    Renomeie as colunas de uma maneira que seja conveniente para você\n",
    "    Verifique se há valores ausentes e tipos de dados. Corrija os dados, se necessário\n",
    "    Adicione uma coluna de data e hora e uma coluna separada para datas"
   ]
  },
  {
   "cell_type": "markdown",
   "metadata": {},
   "source": [
    "<b> 2.1 Renomeando as colunas"
   ]
  },
  {
   "cell_type": "markdown",
   "metadata": {},
   "source": [
    "Como são poucas colunas posso trocar uma por uma pois quero adicionar o '_' entre as palavras. Outra forma seria utilizando um ciclo 'for' para tratar todas as palavras como minusculas e remover possíveis espaços ao final ou inicio das colunas (caso houvesse)."
   ]
  },
  {
   "cell_type": "code",
   "execution_count": 4,
   "metadata": {},
   "outputs": [
    {
     "name": "stdout",
     "output_type": "stream",
     "text": [
      "Index(['event_name', 'device_id_hash', 'event_time_stamp', 'exp_id'], dtype='object')\n"
     ]
    }
   ],
   "source": [
    "logs = logs.rename(columns={'EventName': 'event_name',\n",
    "                            'DeviceIDHash':'device_id_hash',\n",
    "                            'EventTimestamp':'event_time_stamp',\n",
    "                            'ExpId':'exp_id'})\n",
    "\n",
    "print(logs.columns)"
   ]
  },
  {
   "cell_type": "markdown",
   "metadata": {},
   "source": [
    "<b> 2.2 Verificando os dados se há valores ausentes"
   ]
  },
  {
   "cell_type": "code",
   "execution_count": 5,
   "metadata": {},
   "outputs": [
    {
     "name": "stdout",
     "output_type": "stream",
     "text": [
      "<class 'pandas.core.frame.DataFrame'>\n",
      "RangeIndex: 244126 entries, 0 to 244125\n",
      "Data columns (total 4 columns):\n",
      " #   Column            Non-Null Count   Dtype \n",
      "---  ------            --------------   ----- \n",
      " 0   event_name        244126 non-null  object\n",
      " 1   device_id_hash    244126 non-null  int64 \n",
      " 2   event_time_stamp  244126 non-null  int64 \n",
      " 3   exp_id            244126 non-null  int64 \n",
      "dtypes: int64(3), object(1)\n",
      "memory usage: 7.5+ MB\n"
     ]
    }
   ],
   "source": [
    "logs.info()"
   ]
  },
  {
   "cell_type": "markdown",
   "metadata": {},
   "source": [
    "É possível observar que não há valores ausentes entre os dados."
   ]
  },
  {
   "cell_type": "markdown",
   "metadata": {},
   "source": [
    "<b> 2.3 Adicione uma coluna de data e hora e uma coluna separada para datas"
   ]
  },
  {
   "cell_type": "code",
   "execution_count": 6,
   "metadata": {},
   "outputs": [],
   "source": [
    "#adicionando a coluna de data e hora\n",
    "logs['date_time'] = pd.to_datetime(logs['event_time_stamp'], unit='s', errors='coerce')"
   ]
  },
  {
   "cell_type": "code",
   "execution_count": 7,
   "metadata": {},
   "outputs": [],
   "source": [
    "#adicionando a coluna de data\n",
    "logs['date'] = logs['date_time'].dt.date #para a data\n",
    "logs['time'] = logs['date_time'].dt.time #para as horas"
   ]
  },
  {
   "cell_type": "code",
   "execution_count": 8,
   "metadata": {},
   "outputs": [
    {
     "name": "stdout",
     "output_type": "stream",
     "text": [
      "                event_name       device_id_hash  event_time_stamp  exp_id  \\\n",
      "153985  OffersScreenAppear  1228484548691249079        1565003120     246   \n",
      "111205    MainScreenAppear  8018311918221041262        1564899497     248   \n",
      "72713   OffersScreenAppear  1239454820626819999        1564777877     246   \n",
      "121559  OffersScreenAppear  2837195494932801312        1564918657     247   \n",
      "229588    CartScreenAppear  6343888653134816913        1565184767     247   \n",
      "32625     CartScreenAppear  3552058533941424611        1564681988     246   \n",
      "37607   OffersScreenAppear  2088404636236716254        1564691939     248   \n",
      "156069    MainScreenAppear  3234563925901255603        1565006649     246   \n",
      "187796    MainScreenAppear  7664408132782564716        1565083782     247   \n",
      "239011    CartScreenAppear  7917108161419089913        1565198911     248   \n",
      "\n",
      "                 date_time        date      time  \n",
      "153985 2019-08-05 11:05:20  2019-08-05  11:05:20  \n",
      "111205 2019-08-04 06:18:17  2019-08-04  06:18:17  \n",
      "72713  2019-08-02 20:31:17  2019-08-02  20:31:17  \n",
      "121559 2019-08-04 11:37:37  2019-08-04  11:37:37  \n",
      "229588 2019-08-07 13:32:47  2019-08-07  13:32:47  \n",
      "32625  2019-08-01 17:53:08  2019-08-01  17:53:08  \n",
      "37607  2019-08-01 20:38:59  2019-08-01  20:38:59  \n",
      "156069 2019-08-05 12:04:09  2019-08-05  12:04:09  \n",
      "187796 2019-08-06 09:29:42  2019-08-06  09:29:42  \n",
      "239011 2019-08-07 17:28:31  2019-08-07  17:28:31  \n"
     ]
    }
   ],
   "source": [
    "print(logs.sample(10))"
   ]
  },
  {
   "cell_type": "code",
   "execution_count": 9,
   "metadata": {},
   "outputs": [
    {
     "name": "stdout",
     "output_type": "stream",
     "text": [
      "              event_name       device_id_hash  event_time_stamp  exp_id  \\\n",
      "210558  MainScreenAppear  1934958415782608283        1565120459     246   \n",
      "\n",
      "                 date_time        date      time  \n",
      "210558 2019-08-06 19:40:59  2019-08-06  19:40:59  \n"
     ]
    }
   ],
   "source": [
    "print(logs.sample())"
   ]
  },
  {
   "cell_type": "markdown",
   "metadata": {},
   "source": [
    "<b>Passo 3. Estude e verifique os dados</b>\n",
    "\n",
    "    Quantos eventos ficam nos diários?\n",
    "    Quantos usuários ficam nos diários?\n",
    "    Qual é o número médio de eventos por usuário?\n",
    "    Qual é o período de tempo que os dados cobrem? Encontre a data máxima e mínima. Desenhe um histograma por data e hora. Você pode ter certeza de que possui os dados igualmente completos para todo o período? Os eventos mais antigos podem acabar aparecendo nos diários de alguns usuários por motivos técnicos, e isso pode distorcer o quadro geral. Encontre o momento em que os dados começam a ser completos e ignore a seção anterior. Qual período os dados realmente representam?\n",
    "    Você perdeu muitos eventos e usuários ao excluir os dados mais antigos?\n",
    "    Certifique-se de ter usuários de todos os três grupos experimentais"
   ]
  },
  {
   "cell_type": "markdown",
   "metadata": {},
   "source": [
    "<b>Passo 4. Estude o funil de eventos</b>\n",
    "\n",
    "    Veja quais eventos estão nos diários e sua frequência de ocorrência. Classifique-os por frequência.\n",
    "    Encontre o número de usuários que executaram cada uma dessas ações. Ordene os eventos pelo número de usuários. Calcule a proporção de usuários que executaram a ação pelo menos uma vez.\n",
    "    Em que ordem você acha que as ações ocorreram. Todos eles fazem parte de uma única sequência? Você não precisa levá-los em consideração ao calcular o funil.\n",
    "    Use o funil de eventos para encontrar a parcela de usuários que passam de uma etapa para a próxima. (Por exemplo, para a sequência de eventos A → B → C, calcule a proporção de usuários na etapa B para o número de usuários na etapa A e a proporção de usuários na etapa C para o número na etapa B.)\n",
    "    Em qual fase você perde mais usuários?\n",
    "    Qual é a parcela de usuários que faz o caminho inteiro, desde o primeiro evento até o pagamento?"
   ]
  },
  {
   "cell_type": "markdown",
   "metadata": {},
   "source": [
    "<b>Passo 5. Estude os resultados do experimento</b>\n",
    "\n",
    "    Quantos usuários há em cada grupo?\n",
    "    Temos dois grupos de controle no teste A/A, no qual verificamos nossos mecanismos e cálculos. Veja se há uma diferença estatisticamente significativa entre as amostragens 246 e 247.\n",
    "    Selecione o evento mais popular. Em cada um dos grupos de controle, encontre o número de usuários que realizaram essa ação. Encontre a proporção deles. Verifique se a diferença entre os grupos é estatisticamente significativa. Repita o procedimento para todos os outros eventos (economizará tempo se você criar uma função especial para este teste). Você pode confirmar se os grupos foram divididos corretamente?\n",
    "    Faça a mesma coisa para o grupo com fontes alteradas. Compare os resultados com os de cada um dos grupos de controle para cada evento isoladamente. Compare os resultados com os resultados combinados para os grupos de controle. Quais conclusões você pode tirar do experimento?\n",
    "    Qual nível de significância você definiu para testar as hipóteses estatísticas mencionadas acima? Calcule quantos testes de hipóteses estatísticas você realizou. Com um nível de significância estatística de 0,1, um de cada 10 resultados pode ser falso. Qual deveria ser o nível de significância?Se você quiser alterá-lo, execute as etapas anteriores novamente e verifique suas conclusões."
   ]
  }
 ],
 "metadata": {
  "kernelspec": {
   "display_name": "Python 3",
   "language": "python",
   "name": "python3"
  },
  "language_info": {
   "codemirror_mode": {
    "name": "ipython",
    "version": 3
   },
   "file_extension": ".py",
   "mimetype": "text/x-python",
   "name": "python",
   "nbconvert_exporter": "python",
   "pygments_lexer": "ipython3",
   "version": "3.12.0"
  }
 },
 "nbformat": 4,
 "nbformat_minor": 2
}
